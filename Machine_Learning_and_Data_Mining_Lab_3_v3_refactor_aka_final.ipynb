{
 "cells": [
  {
   "cell_type": "markdown",
   "metadata": {},
   "source": [
    "# Machine Learning and Data Mining Lab 3\n",
    "## Author: Pawel Guzewicz"
   ]
  },
  {
   "cell_type": "code",
   "execution_count": 1,
   "metadata": {},
   "outputs": [],
   "source": [
    "import csv\n",
    "import pandas as pd\n",
    "import numpy as np\n",
    "import matplotlib.pyplot as plt\n",
    "from imblearn.under_sampling import RandomUnderSampler, TomekLinks\n",
    "from sklearn.base import BaseEstimator\n",
    "from sklearn.model_selection import KFold, cross_val_score\n",
    "from sklearn.linear_model import LogisticRegression\n",
    "from sklearn.ensemble import RandomForestClassifier\n",
    "from sklearn import svm\n",
    "from sklearn.neural_network import MLPClassifier\n",
    "from sklearn.metrics import matthews_corrcoef\n",
    "import time"
   ]
  },
  {
   "cell_type": "markdown",
   "metadata": {},
   "source": [
    "### Loading the data"
   ]
  },
  {
   "cell_type": "code",
   "execution_count": 2,
   "metadata": {},
   "outputs": [],
   "source": [
    "training_set = pd.read_csv('train.csv', sep=';')\n",
    "test_set = pd.read_csv('test.csv', sep=';', names=training_set.columns.values[:-1])"
   ]
  },
  {
   "cell_type": "code",
   "execution_count": 3,
   "metadata": {},
   "outputs": [
    {
     "name": "stdout",
     "output_type": "stream",
     "text": [
      "<class 'pandas.core.frame.DataFrame'>\n",
      "RangeIndex: 2999 entries, 0 to 2998\n",
      "Data columns (total 21 columns):\n",
      "age               2999 non-null int64\n",
      "job               2999 non-null object\n",
      "marital           2999 non-null object\n",
      "education         2999 non-null object\n",
      "default           2999 non-null object\n",
      "housing           2999 non-null object\n",
      "loan              2999 non-null object\n",
      "contact           2999 non-null object\n",
      "month             2999 non-null object\n",
      "day_of_week       2999 non-null object\n",
      "duration          2999 non-null int64\n",
      "campaign          2999 non-null int64\n",
      "pdays             2999 non-null int64\n",
      "previous          2999 non-null int64\n",
      "poutcome          2999 non-null object\n",
      "emp.var.rate      2999 non-null float64\n",
      "cons.price.idx    2999 non-null float64\n",
      "cons.conf.idx     2999 non-null float64\n",
      "euribor3m         2999 non-null float64\n",
      "nr.employed       2999 non-null float64\n",
      "y                 2999 non-null object\n",
      "dtypes: float64(5), int64(5), object(11)\n",
      "memory usage: 492.1+ KB\n"
     ]
    }
   ],
   "source": [
    "training_set.info()"
   ]
  },
  {
   "cell_type": "code",
   "execution_count": 4,
   "metadata": {},
   "outputs": [
    {
     "data": {
      "text/html": [
       "<div>\n",
       "<table border=\"1\" class=\"dataframe\">\n",
       "  <thead>\n",
       "    <tr style=\"text-align: right;\">\n",
       "      <th></th>\n",
       "      <th>age</th>\n",
       "      <th>job</th>\n",
       "      <th>marital</th>\n",
       "      <th>education</th>\n",
       "      <th>default</th>\n",
       "      <th>housing</th>\n",
       "      <th>loan</th>\n",
       "      <th>contact</th>\n",
       "      <th>month</th>\n",
       "      <th>day_of_week</th>\n",
       "      <th>...</th>\n",
       "      <th>campaign</th>\n",
       "      <th>pdays</th>\n",
       "      <th>previous</th>\n",
       "      <th>poutcome</th>\n",
       "      <th>emp.var.rate</th>\n",
       "      <th>cons.price.idx</th>\n",
       "      <th>cons.conf.idx</th>\n",
       "      <th>euribor3m</th>\n",
       "      <th>nr.employed</th>\n",
       "      <th>y</th>\n",
       "    </tr>\n",
       "  </thead>\n",
       "  <tbody>\n",
       "    <tr>\n",
       "      <th>0</th>\n",
       "      <td>30</td>\n",
       "      <td>blue-collar</td>\n",
       "      <td>married</td>\n",
       "      <td>basic.9y</td>\n",
       "      <td>no</td>\n",
       "      <td>yes</td>\n",
       "      <td>no</td>\n",
       "      <td>cellular</td>\n",
       "      <td>may</td>\n",
       "      <td>fri</td>\n",
       "      <td>...</td>\n",
       "      <td>2</td>\n",
       "      <td>999</td>\n",
       "      <td>0</td>\n",
       "      <td>nonexistent</td>\n",
       "      <td>-1.8</td>\n",
       "      <td>92.893</td>\n",
       "      <td>-46.2</td>\n",
       "      <td>1.313</td>\n",
       "      <td>5099.1</td>\n",
       "      <td>no</td>\n",
       "    </tr>\n",
       "    <tr>\n",
       "      <th>1</th>\n",
       "      <td>39</td>\n",
       "      <td>services</td>\n",
       "      <td>single</td>\n",
       "      <td>high.school</td>\n",
       "      <td>no</td>\n",
       "      <td>no</td>\n",
       "      <td>no</td>\n",
       "      <td>telephone</td>\n",
       "      <td>may</td>\n",
       "      <td>fri</td>\n",
       "      <td>...</td>\n",
       "      <td>4</td>\n",
       "      <td>999</td>\n",
       "      <td>0</td>\n",
       "      <td>nonexistent</td>\n",
       "      <td>1.1</td>\n",
       "      <td>93.994</td>\n",
       "      <td>-36.4</td>\n",
       "      <td>4.855</td>\n",
       "      <td>5191.0</td>\n",
       "      <td>no</td>\n",
       "    </tr>\n",
       "    <tr>\n",
       "      <th>2</th>\n",
       "      <td>25</td>\n",
       "      <td>services</td>\n",
       "      <td>married</td>\n",
       "      <td>high.school</td>\n",
       "      <td>no</td>\n",
       "      <td>yes</td>\n",
       "      <td>no</td>\n",
       "      <td>telephone</td>\n",
       "      <td>jun</td>\n",
       "      <td>wed</td>\n",
       "      <td>...</td>\n",
       "      <td>1</td>\n",
       "      <td>999</td>\n",
       "      <td>0</td>\n",
       "      <td>nonexistent</td>\n",
       "      <td>1.4</td>\n",
       "      <td>94.465</td>\n",
       "      <td>-41.8</td>\n",
       "      <td>4.962</td>\n",
       "      <td>5228.1</td>\n",
       "      <td>no</td>\n",
       "    </tr>\n",
       "    <tr>\n",
       "      <th>3</th>\n",
       "      <td>38</td>\n",
       "      <td>services</td>\n",
       "      <td>married</td>\n",
       "      <td>basic.9y</td>\n",
       "      <td>no</td>\n",
       "      <td>unknown</td>\n",
       "      <td>unknown</td>\n",
       "      <td>telephone</td>\n",
       "      <td>jun</td>\n",
       "      <td>fri</td>\n",
       "      <td>...</td>\n",
       "      <td>3</td>\n",
       "      <td>999</td>\n",
       "      <td>0</td>\n",
       "      <td>nonexistent</td>\n",
       "      <td>1.4</td>\n",
       "      <td>94.465</td>\n",
       "      <td>-41.8</td>\n",
       "      <td>4.959</td>\n",
       "      <td>5228.1</td>\n",
       "      <td>no</td>\n",
       "    </tr>\n",
       "    <tr>\n",
       "      <th>4</th>\n",
       "      <td>47</td>\n",
       "      <td>admin.</td>\n",
       "      <td>married</td>\n",
       "      <td>university.degree</td>\n",
       "      <td>no</td>\n",
       "      <td>yes</td>\n",
       "      <td>no</td>\n",
       "      <td>cellular</td>\n",
       "      <td>nov</td>\n",
       "      <td>mon</td>\n",
       "      <td>...</td>\n",
       "      <td>1</td>\n",
       "      <td>999</td>\n",
       "      <td>0</td>\n",
       "      <td>nonexistent</td>\n",
       "      <td>-0.1</td>\n",
       "      <td>93.200</td>\n",
       "      <td>-42.0</td>\n",
       "      <td>4.191</td>\n",
       "      <td>5195.8</td>\n",
       "      <td>no</td>\n",
       "    </tr>\n",
       "  </tbody>\n",
       "</table>\n",
       "<p>5 rows × 21 columns</p>\n",
       "</div>"
      ],
      "text/plain": [
       "   age          job  marital          education default  housing     loan  \\\n",
       "0   30  blue-collar  married           basic.9y      no      yes       no   \n",
       "1   39     services   single        high.school      no       no       no   \n",
       "2   25     services  married        high.school      no      yes       no   \n",
       "3   38     services  married           basic.9y      no  unknown  unknown   \n",
       "4   47       admin.  married  university.degree      no      yes       no   \n",
       "\n",
       "     contact month day_of_week ...  campaign  pdays  previous     poutcome  \\\n",
       "0   cellular   may         fri ...         2    999         0  nonexistent   \n",
       "1  telephone   may         fri ...         4    999         0  nonexistent   \n",
       "2  telephone   jun         wed ...         1    999         0  nonexistent   \n",
       "3  telephone   jun         fri ...         3    999         0  nonexistent   \n",
       "4   cellular   nov         mon ...         1    999         0  nonexistent   \n",
       "\n",
       "  emp.var.rate  cons.price.idx  cons.conf.idx  euribor3m  nr.employed   y  \n",
       "0         -1.8          92.893          -46.2      1.313       5099.1  no  \n",
       "1          1.1          93.994          -36.4      4.855       5191.0  no  \n",
       "2          1.4          94.465          -41.8      4.962       5228.1  no  \n",
       "3          1.4          94.465          -41.8      4.959       5228.1  no  \n",
       "4         -0.1          93.200          -42.0      4.191       5195.8  no  \n",
       "\n",
       "[5 rows x 21 columns]"
      ]
     },
     "execution_count": 4,
     "metadata": {},
     "output_type": "execute_result"
    }
   ],
   "source": [
    "training_set.head()"
   ]
  },
  {
   "cell_type": "code",
   "execution_count": 5,
   "metadata": {},
   "outputs": [
    {
     "name": "stdout",
     "output_type": "stream",
     "text": [
      "<class 'pandas.core.frame.DataFrame'>\n",
      "RangeIndex: 1120 entries, 0 to 1119\n",
      "Data columns (total 20 columns):\n",
      "age               1120 non-null int64\n",
      "job               1120 non-null object\n",
      "marital           1120 non-null object\n",
      "education         1120 non-null object\n",
      "default           1120 non-null object\n",
      "housing           1120 non-null object\n",
      "loan              1120 non-null object\n",
      "contact           1120 non-null object\n",
      "month             1120 non-null object\n",
      "day_of_week       1120 non-null object\n",
      "duration          1120 non-null int64\n",
      "campaign          1120 non-null int64\n",
      "pdays             1120 non-null int64\n",
      "previous          1120 non-null int64\n",
      "poutcome          1120 non-null object\n",
      "emp.var.rate      1120 non-null float64\n",
      "cons.price.idx    1120 non-null float64\n",
      "cons.conf.idx     1120 non-null float64\n",
      "euribor3m         1120 non-null float64\n",
      "nr.employed       1120 non-null float64\n",
      "dtypes: float64(5), int64(5), object(10)\n",
      "memory usage: 175.1+ KB\n"
     ]
    }
   ],
   "source": [
    "test_set.info()"
   ]
  },
  {
   "cell_type": "code",
   "execution_count": 6,
   "metadata": {},
   "outputs": [
    {
     "data": {
      "text/html": [
       "<div>\n",
       "<table border=\"1\" class=\"dataframe\">\n",
       "  <thead>\n",
       "    <tr style=\"text-align: right;\">\n",
       "      <th></th>\n",
       "      <th>age</th>\n",
       "      <th>job</th>\n",
       "      <th>marital</th>\n",
       "      <th>education</th>\n",
       "      <th>default</th>\n",
       "      <th>housing</th>\n",
       "      <th>loan</th>\n",
       "      <th>contact</th>\n",
       "      <th>month</th>\n",
       "      <th>day_of_week</th>\n",
       "      <th>duration</th>\n",
       "      <th>campaign</th>\n",
       "      <th>pdays</th>\n",
       "      <th>previous</th>\n",
       "      <th>poutcome</th>\n",
       "      <th>emp.var.rate</th>\n",
       "      <th>cons.price.idx</th>\n",
       "      <th>cons.conf.idx</th>\n",
       "      <th>euribor3m</th>\n",
       "      <th>nr.employed</th>\n",
       "    </tr>\n",
       "  </thead>\n",
       "  <tbody>\n",
       "    <tr>\n",
       "      <th>0</th>\n",
       "      <td>49</td>\n",
       "      <td>management</td>\n",
       "      <td>divorced</td>\n",
       "      <td>university.degree</td>\n",
       "      <td>no</td>\n",
       "      <td>no</td>\n",
       "      <td>no</td>\n",
       "      <td>cellular</td>\n",
       "      <td>jul</td>\n",
       "      <td>thu</td>\n",
       "      <td>144</td>\n",
       "      <td>5</td>\n",
       "      <td>999</td>\n",
       "      <td>0</td>\n",
       "      <td>nonexistent</td>\n",
       "      <td>1.4</td>\n",
       "      <td>93.918</td>\n",
       "      <td>-42.7</td>\n",
       "      <td>4.963</td>\n",
       "      <td>5228.1</td>\n",
       "    </tr>\n",
       "    <tr>\n",
       "      <th>1</th>\n",
       "      <td>31</td>\n",
       "      <td>admin.</td>\n",
       "      <td>unknown</td>\n",
       "      <td>high.school</td>\n",
       "      <td>no</td>\n",
       "      <td>no</td>\n",
       "      <td>no</td>\n",
       "      <td>telephone</td>\n",
       "      <td>may</td>\n",
       "      <td>mon</td>\n",
       "      <td>182</td>\n",
       "      <td>8</td>\n",
       "      <td>999</td>\n",
       "      <td>0</td>\n",
       "      <td>nonexistent</td>\n",
       "      <td>1.1</td>\n",
       "      <td>93.994</td>\n",
       "      <td>-36.4</td>\n",
       "      <td>4.858</td>\n",
       "      <td>5191.0</td>\n",
       "    </tr>\n",
       "    <tr>\n",
       "      <th>2</th>\n",
       "      <td>31</td>\n",
       "      <td>admin.</td>\n",
       "      <td>single</td>\n",
       "      <td>basic.9y</td>\n",
       "      <td>no</td>\n",
       "      <td>no</td>\n",
       "      <td>no</td>\n",
       "      <td>telephone</td>\n",
       "      <td>may</td>\n",
       "      <td>wed</td>\n",
       "      <td>80</td>\n",
       "      <td>1</td>\n",
       "      <td>999</td>\n",
       "      <td>1</td>\n",
       "      <td>failure</td>\n",
       "      <td>-1.8</td>\n",
       "      <td>92.893</td>\n",
       "      <td>-46.2</td>\n",
       "      <td>1.281</td>\n",
       "      <td>5099.1</td>\n",
       "    </tr>\n",
       "    <tr>\n",
       "      <th>3</th>\n",
       "      <td>60</td>\n",
       "      <td>admin.</td>\n",
       "      <td>married</td>\n",
       "      <td>high.school</td>\n",
       "      <td>no</td>\n",
       "      <td>yes</td>\n",
       "      <td>yes</td>\n",
       "      <td>cellular</td>\n",
       "      <td>apr</td>\n",
       "      <td>thu</td>\n",
       "      <td>482</td>\n",
       "      <td>2</td>\n",
       "      <td>999</td>\n",
       "      <td>0</td>\n",
       "      <td>nonexistent</td>\n",
       "      <td>-1.8</td>\n",
       "      <td>93.075</td>\n",
       "      <td>-47.1</td>\n",
       "      <td>1.365</td>\n",
       "      <td>5099.1</td>\n",
       "    </tr>\n",
       "    <tr>\n",
       "      <th>4</th>\n",
       "      <td>33</td>\n",
       "      <td>blue-collar</td>\n",
       "      <td>married</td>\n",
       "      <td>high.school</td>\n",
       "      <td>no</td>\n",
       "      <td>no</td>\n",
       "      <td>no</td>\n",
       "      <td>cellular</td>\n",
       "      <td>apr</td>\n",
       "      <td>mon</td>\n",
       "      <td>87</td>\n",
       "      <td>2</td>\n",
       "      <td>999</td>\n",
       "      <td>2</td>\n",
       "      <td>failure</td>\n",
       "      <td>-1.8</td>\n",
       "      <td>93.075</td>\n",
       "      <td>-47.1</td>\n",
       "      <td>1.405</td>\n",
       "      <td>5099.1</td>\n",
       "    </tr>\n",
       "  </tbody>\n",
       "</table>\n",
       "</div>"
      ],
      "text/plain": [
       "   age          job   marital          education default housing loan  \\\n",
       "0   49   management  divorced  university.degree      no      no   no   \n",
       "1   31       admin.   unknown        high.school      no      no   no   \n",
       "2   31       admin.    single           basic.9y      no      no   no   \n",
       "3   60       admin.   married        high.school      no     yes  yes   \n",
       "4   33  blue-collar   married        high.school      no      no   no   \n",
       "\n",
       "     contact month day_of_week  duration  campaign  pdays  previous  \\\n",
       "0   cellular   jul         thu       144         5    999         0   \n",
       "1  telephone   may         mon       182         8    999         0   \n",
       "2  telephone   may         wed        80         1    999         1   \n",
       "3   cellular   apr         thu       482         2    999         0   \n",
       "4   cellular   apr         mon        87         2    999         2   \n",
       "\n",
       "      poutcome  emp.var.rate  cons.price.idx  cons.conf.idx  euribor3m  \\\n",
       "0  nonexistent           1.4          93.918          -42.7      4.963   \n",
       "1  nonexistent           1.1          93.994          -36.4      4.858   \n",
       "2      failure          -1.8          92.893          -46.2      1.281   \n",
       "3  nonexistent          -1.8          93.075          -47.1      1.365   \n",
       "4      failure          -1.8          93.075          -47.1      1.405   \n",
       "\n",
       "   nr.employed  \n",
       "0       5228.1  \n",
       "1       5191.0  \n",
       "2       5099.1  \n",
       "3       5099.1  \n",
       "4       5099.1  "
      ]
     },
     "execution_count": 6,
     "metadata": {},
     "output_type": "execute_result"
    }
   ],
   "source": [
    "test_set.head()"
   ]
  },
  {
   "cell_type": "markdown",
   "metadata": {},
   "source": [
    "### Preprocessing of the data\n",
    "#### Checking the features"
   ]
  },
  {
   "cell_type": "code",
   "execution_count": 7,
   "metadata": {},
   "outputs": [
    {
     "name": "stdout",
     "output_type": "stream",
     "text": [
      "0. age\n",
      " [18, 19, 20, 21, 22, 23, 24, 25, 26, 27, 28, 29, 30, 31, 32, 33, 34, 35, 36, 37, 38, 39, 40, 41, 42, 43, 44, 45, 46, 47, 48, 49, 50, 51, 52, 53, 54, 55, 56, 57, 58, 59, 60, 61, 62, 63, 64, 65, 66, 67, 68, 69, 70, 71, 72, 73, 74, 75, 76, 77, 78, 80, 81, 82, 85, 86, 88] \n",
      "\n",
      "1. job\n",
      " ['admin.', 'blue-collar', 'entrepreneur', 'housemaid', 'management', 'retired', 'self-employed', 'services', 'student', 'technician', 'unemployed', 'unknown'] \n",
      "\n",
      "2. marital\n",
      " ['divorced', 'married', 'single', 'unknown'] \n",
      "\n",
      "3. education\n",
      " ['basic.4y', 'basic.6y', 'basic.9y', 'high.school', 'illiterate', 'professional.course', 'university.degree', 'unknown'] \n",
      "\n",
      "4. default\n",
      " ['no', 'unknown', 'yes'] \n",
      "\n",
      "5. housing\n",
      " ['no', 'unknown', 'yes'] \n",
      "\n",
      "6. loan\n",
      " ['no', 'unknown', 'yes'] \n",
      "\n",
      "7. contact\n",
      " ['cellular', 'telephone'] \n",
      "\n",
      "8. month\n",
      " ['apr', 'aug', 'dec', 'jul', 'jun', 'mar', 'may', 'nov', 'oct', 'sep'] \n",
      "\n",
      "9. day_of_week\n",
      " ['fri', 'mon', 'thu', 'tue', 'wed'] \n",
      "\n",
      "10. duration\n",
      " [0, 4, 5, 6, 7, 8, 9, 10, 11, 12, 13, 14, 15, 16, 17, 18, 19, 20, 21, 22, 23, 24, 25, 26, 27, 28, 29, 30, 31, 32, 33, 34, 35, 36, 37, 38, 39, 40, 41, 42, 43, 44, 45, 46, 47, 48, 49, 50, 51, 52, 53, 54, 55, 56, 57, 58, 59, 60, 61, 62, 63, 64, 65, 66, 67, 68, 69, 70, 71, 72, 73, 74, 75, 76, 77, 78, 79, 80, 81, 82, 83, 84, 85, 86, 87, 88, 89, 90, 91, 92, 93, 94, 95, 96, 97, 98, 99, 100, 101, 102, 103, 104, 105, 106, 107, 108, 109, 110, 111, 112, 113, 114, 115, 116, 117, 118, 119, 120, 121, 122, 123, 124, 125, 126, 127, 128, 129, 130, 131, 132, 133, 134, 135, 136, 137, 138, 139, 140, 141, 142, 143, 144, 145, 146, 147, 148, 149, 150, 151, 152, 153, 154, 155, 156, 157, 158, 159, 160, 161, 162, 163, 164, 165, 166, 167, 168, 169, 170, 171, 172, 173, 174, 175, 176, 177, 178, 179, 180, 181, 182, 183, 184, 185, 186, 187, 188, 189, 190, 191, 192, 193, 194, 195, 196, 197, 198, 199, 200, 201, 202, 203, 204, 205, 206, 207, 208, 209, 210, 211, 212, 213, 214, 215, 216, 217, 218, 219, 220, 221, 222, 223, 224, 225, 226, 227, 228, 229, 230, 231, 232, 233, 234, 235, 236, 237, 238, 239, 240, 241, 242, 243, 244, 245, 246, 247, 248, 249, 250, 251, 252, 253, 254, 255, 256, 257, 258, 259, 260, 261, 262, 263, 264, 265, 266, 267, 268, 269, 270, 271, 272, 273, 274, 275, 276, 277, 278, 279, 280, 281, 282, 283, 284, 285, 286, 287, 288, 289, 290, 291, 292, 293, 294, 295, 296, 297, 298, 299, 300, 301, 302, 303, 304, 305, 306, 307, 308, 309, 310, 311, 312, 313, 314, 315, 316, 317, 318, 319, 320, 321, 322, 323, 324, 325, 326, 327, 328, 329, 330, 331, 332, 333, 334, 335, 336, 337, 338, 339, 340, 341, 342, 343, 344, 345, 346, 347, 348, 349, 350, 351, 352, 353, 354, 355, 356, 357, 358, 359, 360, 361, 362, 363, 364, 365, 366, 367, 368, 369, 370, 371, 372, 373, 374, 375, 376, 377, 378, 379, 381, 382, 383, 384, 385, 386, 387, 388, 389, 390, 391, 393, 394, 395, 396, 397, 398, 399, 400, 401, 402, 403, 404, 405, 406, 407, 408, 409, 410, 411, 412, 413, 414, 415, 416, 417, 418, 419, 420, 421, 422, 423, 424, 426, 427, 428, 429, 430, 431, 432, 433, 434, 435, 436, 438, 439, 440, 441, 442, 445, 446, 447, 448, 449, 450, 451, 452, 453, 454, 455, 456, 457, 458, 459, 460, 461, 463, 464, 468, 469, 470, 471, 472, 473, 474, 475, 476, 477, 478, 479, 480, 481, 482, 483, 484, 485, 486, 487, 488, 489, 490, 491, 492, 493, 494, 495, 496, 497, 498, 499, 501, 502, 503, 504, 505, 506, 507, 508, 509, 511, 513, 514, 515, 516, 517, 519, 520, 521, 522, 523, 525, 526, 527, 528, 529, 530, 531, 532, 533, 534, 536, 537, 539, 540, 541, 542, 543, 544, 545, 546, 548, 549, 550, 551, 553, 556, 557, 559, 562, 565, 566, 567, 568, 569, 570, 571, 575, 577, 578, 580, 581, 582, 584, 585, 587, 588, 589, 590, 591, 592, 593, 595, 596, 597, 599, 600, 602, 604, 605, 606, 607, 608, 609, 611, 614, 616, 617, 618, 619, 620, 621, 623, 624, 626, 627, 628, 629, 630, 632, 633, 634, 636, 637, 638, 640, 641, 643, 644, 645, 646, 649, 650, 651, 653, 655, 657, 658, 659, 662, 663, 665, 667, 668, 671, 673, 674, 675, 677, 679, 681, 683, 686, 687, 688, 689, 690, 693, 696, 697, 698, 699, 700, 701, 702, 704, 705, 706, 711, 712, 713, 715, 716, 718, 720, 721, 722, 723, 725, 726, 727, 728, 738, 739, 740, 742, 747, 748, 749, 750, 754, 757, 758, 760, 762, 764, 766, 767, 768, 769, 770, 771, 772, 775, 776, 780, 781, 782, 784, 789, 796, 797, 799, 800, 801, 802, 805, 806, 807, 809, 813, 814, 815, 818, 820, 823, 825, 829, 834, 835, 837, 838, 840, 843, 846, 848, 849, 854, 855, 857, 861, 867, 868, 869, 873, 879, 881, 882, 886, 888, 891, 892, 894, 895, 898, 901, 903, 919, 938, 941, 951, 952, 955, 958, 979, 980, 984, 988, 992, 996, 997, 999, 1002, 1005, 1009, 1011, 1012, 1013, 1014, 1019, 1045, 1046, 1058, 1062, 1065, 1067, 1068, 1074, 1076, 1087, 1090, 1091, 1092, 1105, 1111, 1114, 1119, 1127, 1128, 1130, 1132, 1135, 1138, 1143, 1148, 1149, 1150, 1152, 1161, 1167, 1170, 1171, 1176, 1183, 1185, 1186, 1190, 1195, 1203, 1207, 1221, 1234, 1241, 1259, 1276, 1288, 1298, 1300, 1311, 1319, 1327, 1332, 1334, 1340, 1348, 1353, 1357, 1360, 1365, 1386, 1422, 1424, 1432, 1438, 1441, 1447, 1468, 1476, 1551, 1590, 1602, 1628, 1720, 1806, 1820, 1855, 1868, 1980, 2301, 2653, 3253, 3643] \n",
      "\n",
      "11. campaign\n",
      " [1, 2, 3, 4, 5, 6, 7, 8, 9, 10, 11, 12, 13, 14, 15, 16, 17, 18, 19, 22, 23, 24, 27, 29, 35] \n",
      "\n",
      "12. pdays\n",
      " [0, 1, 2, 3, 4, 5, 6, 7, 9, 10, 11, 12, 13, 14, 15, 16, 17, 18, 19, 21, 999] \n",
      "\n",
      "13. previous\n",
      " [0, 1, 2, 3, 4, 5, 6] \n",
      "\n",
      "14. poutcome\n",
      " ['failure', 'nonexistent', 'success'] \n",
      "\n",
      "15. emp.var.rate\n",
      " [-3.3999999999999999, -3.0, -2.8999999999999999, -1.8, -1.7, -1.1000000000000001, -0.20000000000000001, -0.10000000000000001, 1.1000000000000001, 1.3999999999999999] \n",
      "\n",
      "16. cons.price.idx\n",
      " [92.201000000000008, 92.378999999999991, 92.430999999999997, 92.468999999999994, 92.649000000000001, 92.712999999999994, 92.756, 92.842999999999989, 92.892999999999986, 92.962999999999994, 93.075000000000003, 93.200000000000003, 93.369, 93.444000000000003, 93.748999999999995, 93.797999999999988, 93.876000000000005, 93.917999999999992, 93.994, 94.027000000000001, 94.055000000000007, 94.198999999999998, 94.215000000000003, 94.465000000000003, 94.600999999999999, 94.76700000000001] \n",
      "\n",
      "17. cons.conf.idx\n",
      " [-50.799999999999997, -50.0, -49.5, -47.100000000000001, -46.200000000000003, -45.899999999999999, -42.700000000000003, -42.0, -41.799999999999997, -40.799999999999997, -40.399999999999999, -40.299999999999997, -40.0, -39.799999999999997, -38.299999999999997, -37.5, -36.399999999999999, -36.100000000000001, -34.799999999999997, -34.600000000000001, -33.600000000000001, -33.0, -31.399999999999999, -30.100000000000001, -29.800000000000001, -26.899999999999999] \n",
      "\n",
      "18. euribor3m\n",
      " [0.63500000000000001, 0.63600000000000001, 0.63700000000000001, 0.63900000000000001, 0.64000000000000001, 0.64200000000000002, 0.64300000000000002, 0.64400000000000002, 0.64500000000000002, 0.64599999999999991, 0.64900000000000002, 0.65000000000000002, 0.65200000000000002, 0.65400000000000003, 0.65500000000000003, 0.65900000000000003, 0.66799999999999993, 0.67200000000000004, 0.67700000000000005, 0.68200000000000005, 0.68299999999999994, 0.69200000000000006, 0.69499999999999995, 0.69700000000000006, 0.69900000000000007, 0.69999999999999996, 0.70200000000000007, 0.70400000000000007, 0.70599999999999996, 0.70700000000000007, 0.70900000000000007, 0.70999999999999996, 0.71400000000000008, 0.71499999999999997, 0.71599999999999997, 0.71700000000000008, 0.71799999999999997, 0.71900000000000008, 0.71999999999999997, 0.72099999999999997, 0.72199999999999998, 0.72299999999999998, 0.72400000000000009, 0.72799999999999998, 0.72900000000000009, 0.72999999999999998, 0.73099999999999998, 0.73499999999999999, 0.73699999999999999, 0.7390000000000001, 0.73999999999999999, 0.74099999999999999, 0.74199999999999999, 0.748, 0.74900000000000011, 0.752, 0.754, 0.755, 0.7609999999999999, 0.76200000000000001, 0.76700000000000002, 0.76800000000000002, 0.77000000000000002, 0.77099999999999991, 0.77300000000000002, 0.77800000000000002, 0.78200000000000003, 0.78799999999999992, 0.79000000000000004, 0.79700000000000004, 0.80299999999999994, 0.80900000000000005, 0.81000000000000005, 0.81900000000000006, 0.82499999999999996, 0.82700000000000007, 0.82900000000000007, 0.83400000000000007, 0.83499999999999996, 0.83799999999999997, 0.84299999999999997, 0.84599999999999997, 0.84900000000000009, 0.85099999999999998, 0.85400000000000009, 0.8590000000000001, 0.86099999999999999, 0.86900000000000011, 0.87, 0.873, 0.87599999999999989, 0.877, 0.878, 0.879, 0.88099999999999989, 0.88200000000000001, 0.88300000000000001, 0.88400000000000001, 0.88500000000000001, 0.8859999999999999, 0.88900000000000001, 0.89300000000000002, 0.89599999999999991, 0.89800000000000002, 0.89900000000000002, 0.90000000000000002, 0.90400000000000003, 0.90500000000000003, 0.91400000000000003, 0.92099999999999993, 0.93700000000000006, 0.94200000000000006, 0.94400000000000006, 0.95299999999999996, 0.95900000000000007, 0.96499999999999997, 0.97699999999999998, 0.98199999999999998, 0.98699999999999999, 0.996, 1.0, 1.016, 1.028, 1.0290000000000001, 1.03, 1.0309999999999999, 1.032, 1.0349999999999999, 1.0390000000000001, 1.04, 1.0409999999999999, 1.0429999999999999, 1.044, 1.046, 1.048, 1.0490000000000002, 1.05, 1.0590000000000002, 1.0720000000000001, 1.085, 1.099, 1.2150000000000001, 1.224, 1.244, 1.25, 1.252, 1.2590000000000001, 1.26, 1.262, 1.264, 1.266, 1.268, 1.27, 1.2809999999999999, 1.2909999999999999, 1.2990000000000002, 1.3130000000000002, 1.327, 1.3340000000000001, 1.3440000000000001, 1.3540000000000001, 1.365, 1.3719999999999999, 1.3840000000000001, 1.3919999999999999, 1.3999999999999999, 1.405, 1.4059999999999999, 1.4099999999999999, 1.415, 1.423, 1.4350000000000001, 1.4450000000000001, 1.4530000000000001, 1.466, 1.4790000000000001, 1.4830000000000001, 1.4980000000000002, 1.51, 1.52, 1.5309999999999999, 1.538, 1.6019999999999999, 1.6140000000000001, 1.629, 1.6399999999999999, 1.6499999999999999, 1.663, 1.6869999999999998, 1.7030000000000001, 1.726, 1.7569999999999999, 1.778, 1.7990000000000002, 1.8109999999999999, 3.3289999999999997, 3.8530000000000002, 4.0209999999999999, 4.0760000000000005, 4.1200000000000001, 4.1530000000000005, 4.1909999999999998, 4.2450000000000001, 4.343, 4.5919999999999996, 4.6630000000000003, 4.7939999999999996, 4.8550000000000004, 4.8559999999999999, 4.8570000000000002, 4.8580000000000005, 4.859, 4.8600000000000003, 4.8639999999999999, 4.8650000000000002, 4.8660000000000005, 4.9210000000000003, 4.9470000000000001, 4.9550000000000001, 4.9560000000000004, 4.9569999999999999, 4.9580000000000002, 4.9589999999999996, 4.96, 4.9610000000000003, 4.9619999999999997, 4.9630000000000001, 4.9639999999999995, 4.9649999999999999, 4.9660000000000002, 4.9669999999999996, 4.968, 4.9699999999999998, 5.0449999999999999] \n",
      "\n",
      "19. nr.employed\n",
      " [4963.6000000000004, 4991.6000000000004, 5008.6999999999998, 5017.5, 5023.5, 5076.1999999999998, 5099.1000000000004, 5176.3000000000002, 5191.0, 5195.8000000000002, 5228.1000000000004] \n",
      "\n"
     ]
    }
   ],
   "source": [
    "merged_set = training_set.drop('y', axis=1).append(test_set)\n",
    "for i, feature in enumerate(merged_set.columns.values):\n",
    "    print(str(i) + \". \" + feature + \"\\n\", sorted(merged_set[feature].unique()), \"\\n\")"
   ]
  },
  {
   "cell_type": "markdown",
   "metadata": {},
   "source": [
    "#### Feature engineering"
   ]
  },
  {
   "cell_type": "code",
   "execution_count": 8,
   "metadata": {},
   "outputs": [],
   "source": [
    "# use with caution: this function has side effects on input dataframes\n",
    "def transform_features(dataframes, replace_unknown, replace_nonexistent):\n",
    "    new_dataframes = []\n",
    "\n",
    "    for df in dataframes:\n",
    "        # numeric features (fine): 0. age, 10. duration, 11. campaign, 12. pdays, 13. previous,\n",
    "        # 15. emp.var.rate, 16. cons.price.idx, 17. cons.conf.idx, 18. euribor3m, 19. nr.employed\n",
    "\n",
    "        # categorical features with 'unknown's: 1. job, 2. marital, 3. education, 4. default, 5.housing, 6. loan\n",
    "        if replace_unknown:\n",
    "            nan = 'unknown'\n",
    "            for feature in ['job', 'marital', 'education', 'default', 'housing', 'loan']:\n",
    "                feature_counts = df[feature].value_counts().index\n",
    "                feature_count = feature_counts[0]\n",
    "                if feature_count == nan:\n",
    "                    feature_count = feature_counts[1]\n",
    "                df[feature] = df[feature].replace(nan, feature_count)\n",
    "\n",
    "        # categorical features with 'nonexistent's: 14. poutcome\n",
    "        if replace_nonexistent:\n",
    "            nan = 'nonexistent'\n",
    "            poutcome_counts = df['poutcome'].value_counts().index\n",
    "            poutcome_count = poutcome_counts[0]\n",
    "            if poutcome_count == nan:\n",
    "                poutcome_count = poutcome_counts[1]\n",
    "\n",
    "            df['poutcome'] = df['poutcome'].replace(nan, poutcome_count)\n",
    "\n",
    "        # binary features with 'yes/no': 4. default, 5. housing, 6.loan\n",
    "        if replace_unknown:\n",
    "            for feature in ['default', 'housing', 'loan']:\n",
    "                df[feature] = df[feature].map({'yes': 1, 'no': 0})\n",
    "\n",
    "        # binary features with 'cellular/telephone': 7. contact\n",
    "        df['contact'] = df['contact'].map({'cellular': 1, 'telephone': 0})\n",
    "\n",
    "        # binary features with 'failure/success': 14. poutcome\n",
    "        if replace_nonexistent:\n",
    "            df['poutcome'] = df['poutcome'].map({'failure': 1, 'success': 0})\n",
    "\n",
    "        # multiclass features with order: 8. month, 9. day_of_week\n",
    "        df['month'] = df['month'].map({'jan': 1, 'feb': 2, 'mar': 3, 'apr': 4, 'may': 5, 'jun': 6,\n",
    "                                       'jul': 7, 'aug': 8, 'sep': 9, 'oct': 10, 'nov': 11, 'dec': 12})\n",
    "        df['day_of_week'] = df['day_of_week'].map({'mon': 1, 'tue': 2, 'wed': 3, 'thu': 4, 'fri': 5, 'sat': 6, 'sun': 7})\n",
    "\n",
    "        # multiclass features without order: 1. job, 2. marital, 3. education, (4. default, 5.housing, 6. loan), (14. poutcome)\n",
    "        features = ['job', 'marital', 'education']\n",
    "        if not replace_unknown:\n",
    "            features += ['default', 'housing', 'loan']\n",
    "        if not replace_nonexistent:\n",
    "            features += ['poutcome']\n",
    "        # dummy variables for categorical features\n",
    "        for feature in features:\n",
    "            df = pd.concat([df, pd.get_dummies(df[feature], prefix=feature)], axis=1)\n",
    "            df = df.drop(feature, axis=1)\n",
    "        \n",
    "        new_dataframes += [df]\n",
    "    \n",
    "    return new_dataframes"
   ]
  },
  {
   "cell_type": "code",
   "execution_count": 9,
   "metadata": {},
   "outputs": [],
   "source": [
    "dataframes = [training_set, test_set, merged_set]\n",
    "[training_set, test_set, merged_set] = transform_features(dataframes, False, False)\n",
    "test_set.drop('education_illiterate', axis=1, inplace=True)\n",
    "merged_set.drop('education_illiterate', axis=1, inplace=True);"
   ]
  },
  {
   "cell_type": "markdown",
   "metadata": {},
   "source": [
    "#### Final check of the features"
   ]
  },
  {
   "cell_type": "code",
   "execution_count": 10,
   "metadata": {},
   "outputs": [
    {
     "name": "stdout",
     "output_type": "stream",
     "text": [
      "0. age\n",
      " [18, 19, 20, 21, 22, 23, 24, 25, 26, 27, 28, 29, 30, 31, 32, 33, 34, 35, 36, 37, 38, 39, 40, 41, 42, 43, 44, 45, 46, 47, 48, 49, 50, 51, 52, 53, 54, 55, 56, 57, 58, 59, 60, 61, 62, 63, 64, 65, 66, 67, 68, 69, 70, 71, 72, 73, 74, 75, 76, 77, 78, 80, 81, 82, 85, 86, 88] \n",
      "\n",
      "1. contact\n",
      " [0, 1] \n",
      "\n",
      "2. month\n",
      " [3, 4, 5, 6, 7, 8, 9, 10, 11, 12] \n",
      "\n",
      "3. day_of_week\n",
      " [1, 2, 3, 4, 5] \n",
      "\n",
      "4. duration\n",
      " [0, 4, 5, 6, 7, 8, 9, 10, 11, 12, 13, 14, 15, 16, 17, 18, 19, 20, 21, 22, 23, 24, 25, 26, 27, 28, 29, 30, 31, 32, 33, 34, 35, 36, 37, 38, 39, 40, 41, 42, 43, 44, 45, 46, 47, 48, 49, 50, 51, 52, 53, 54, 55, 56, 57, 58, 59, 60, 61, 62, 63, 64, 65, 66, 67, 68, 69, 70, 71, 72, 73, 74, 75, 76, 77, 78, 79, 80, 81, 82, 83, 84, 85, 86, 87, 88, 89, 90, 91, 92, 93, 94, 95, 96, 97, 98, 99, 100, 101, 102, 103, 104, 105, 106, 107, 108, 109, 110, 111, 112, 113, 114, 115, 116, 117, 118, 119, 120, 121, 122, 123, 124, 125, 126, 127, 128, 129, 130, 131, 132, 133, 134, 135, 136, 137, 138, 139, 140, 141, 142, 143, 144, 145, 146, 147, 148, 149, 150, 151, 152, 153, 154, 155, 156, 157, 158, 159, 160, 161, 162, 163, 164, 165, 166, 167, 168, 169, 170, 171, 172, 173, 174, 175, 176, 177, 178, 179, 180, 181, 182, 183, 184, 185, 186, 187, 188, 189, 190, 191, 192, 193, 194, 195, 196, 197, 198, 199, 200, 201, 202, 203, 204, 205, 206, 207, 208, 209, 210, 211, 212, 213, 214, 215, 216, 217, 218, 219, 220, 221, 222, 223, 224, 225, 226, 227, 228, 229, 230, 231, 232, 233, 234, 235, 236, 237, 238, 239, 240, 241, 242, 243, 244, 245, 246, 247, 248, 249, 250, 251, 252, 253, 254, 255, 256, 257, 258, 259, 260, 261, 262, 263, 264, 265, 266, 267, 268, 269, 270, 271, 272, 273, 274, 275, 276, 277, 278, 279, 280, 281, 282, 283, 284, 285, 286, 287, 288, 289, 290, 291, 292, 293, 294, 295, 296, 297, 298, 299, 300, 301, 302, 303, 304, 305, 306, 307, 308, 309, 310, 311, 312, 313, 314, 315, 316, 317, 318, 319, 320, 321, 322, 323, 324, 325, 326, 327, 328, 329, 330, 331, 332, 333, 334, 335, 336, 337, 338, 339, 340, 341, 342, 343, 344, 345, 346, 347, 348, 349, 350, 351, 352, 353, 354, 355, 356, 357, 358, 359, 360, 361, 362, 363, 364, 365, 366, 367, 368, 369, 370, 371, 372, 373, 374, 375, 376, 377, 378, 379, 381, 382, 383, 384, 385, 386, 387, 388, 389, 390, 391, 393, 394, 395, 396, 397, 398, 399, 400, 401, 402, 403, 404, 405, 406, 407, 408, 409, 410, 411, 412, 413, 414, 415, 416, 417, 418, 419, 420, 421, 422, 423, 424, 426, 427, 428, 429, 430, 431, 432, 433, 434, 435, 436, 438, 439, 440, 441, 442, 445, 446, 447, 448, 449, 450, 451, 452, 453, 454, 455, 456, 457, 458, 459, 460, 461, 463, 464, 468, 469, 470, 471, 472, 473, 474, 475, 476, 477, 478, 479, 480, 481, 482, 483, 484, 485, 486, 487, 488, 489, 490, 491, 492, 493, 494, 495, 496, 497, 498, 499, 501, 502, 503, 504, 505, 506, 507, 508, 509, 511, 513, 514, 515, 516, 517, 519, 520, 521, 522, 523, 525, 526, 527, 528, 529, 530, 531, 532, 533, 534, 536, 537, 539, 540, 541, 542, 543, 544, 545, 546, 548, 549, 550, 551, 553, 556, 557, 559, 562, 565, 566, 567, 568, 569, 570, 571, 575, 577, 578, 580, 581, 582, 584, 585, 587, 588, 589, 590, 591, 592, 593, 595, 596, 597, 599, 600, 602, 604, 605, 606, 607, 608, 609, 611, 614, 616, 617, 618, 619, 620, 621, 623, 624, 626, 627, 628, 629, 630, 632, 633, 634, 636, 637, 638, 640, 641, 643, 644, 645, 646, 649, 650, 651, 653, 655, 657, 658, 659, 662, 663, 665, 667, 668, 671, 673, 674, 675, 677, 679, 681, 683, 686, 687, 688, 689, 690, 693, 696, 697, 698, 699, 700, 701, 702, 704, 705, 706, 711, 712, 713, 715, 716, 718, 720, 721, 722, 723, 725, 726, 727, 728, 738, 739, 740, 742, 747, 748, 749, 750, 754, 757, 758, 760, 762, 764, 766, 767, 768, 769, 770, 771, 772, 775, 776, 780, 781, 782, 784, 789, 796, 797, 799, 800, 801, 802, 805, 806, 807, 809, 813, 814, 815, 818, 820, 823, 825, 829, 834, 835, 837, 838, 840, 843, 846, 848, 849, 854, 855, 857, 861, 867, 868, 869, 873, 879, 881, 882, 886, 888, 891, 892, 894, 895, 898, 901, 903, 919, 938, 941, 951, 952, 955, 958, 979, 980, 984, 988, 992, 996, 997, 999, 1002, 1005, 1009, 1011, 1012, 1013, 1014, 1019, 1045, 1046, 1058, 1062, 1065, 1067, 1068, 1074, 1076, 1087, 1090, 1091, 1092, 1105, 1111, 1114, 1119, 1127, 1128, 1130, 1132, 1135, 1138, 1143, 1148, 1149, 1150, 1152, 1161, 1167, 1170, 1171, 1176, 1183, 1185, 1186, 1190, 1195, 1203, 1207, 1221, 1234, 1241, 1259, 1276, 1288, 1298, 1300, 1311, 1319, 1327, 1332, 1334, 1340, 1348, 1353, 1357, 1360, 1365, 1386, 1422, 1424, 1432, 1438, 1441, 1447, 1468, 1476, 1551, 1590, 1602, 1628, 1720, 1806, 1820, 1855, 1868, 1980, 2301, 2653, 3253, 3643] \n",
      "\n",
      "5. campaign\n",
      " [1, 2, 3, 4, 5, 6, 7, 8, 9, 10, 11, 12, 13, 14, 15, 16, 17, 18, 19, 22, 23, 24, 27, 29, 35] \n",
      "\n",
      "6. pdays\n",
      " [0, 1, 2, 3, 4, 5, 6, 7, 9, 10, 11, 12, 13, 14, 15, 16, 17, 18, 19, 21, 999] \n",
      "\n",
      "7. previous\n",
      " [0, 1, 2, 3, 4, 5, 6] \n",
      "\n",
      "8. emp.var.rate\n",
      " [-3.3999999999999999, -3.0, -2.8999999999999999, -1.8, -1.7, -1.1000000000000001, -0.20000000000000001, -0.10000000000000001, 1.1000000000000001, 1.3999999999999999] \n",
      "\n",
      "9. cons.price.idx\n",
      " [92.201000000000008, 92.378999999999991, 92.430999999999997, 92.468999999999994, 92.649000000000001, 92.712999999999994, 92.756, 92.842999999999989, 92.892999999999986, 92.962999999999994, 93.075000000000003, 93.200000000000003, 93.369, 93.444000000000003, 93.748999999999995, 93.797999999999988, 93.876000000000005, 93.917999999999992, 93.994, 94.027000000000001, 94.055000000000007, 94.198999999999998, 94.215000000000003, 94.465000000000003, 94.600999999999999, 94.76700000000001] \n",
      "\n",
      "10. cons.conf.idx\n",
      " [-50.799999999999997, -50.0, -49.5, -47.100000000000001, -46.200000000000003, -45.899999999999999, -42.700000000000003, -42.0, -41.799999999999997, -40.799999999999997, -40.399999999999999, -40.299999999999997, -40.0, -39.799999999999997, -38.299999999999997, -37.5, -36.399999999999999, -36.100000000000001, -34.799999999999997, -34.600000000000001, -33.600000000000001, -33.0, -31.399999999999999, -30.100000000000001, -29.800000000000001, -26.899999999999999] \n",
      "\n",
      "11. euribor3m\n",
      " [0.63500000000000001, 0.63600000000000001, 0.63700000000000001, 0.63900000000000001, 0.64000000000000001, 0.64200000000000002, 0.64300000000000002, 0.64400000000000002, 0.64500000000000002, 0.64599999999999991, 0.64900000000000002, 0.65000000000000002, 0.65200000000000002, 0.65400000000000003, 0.65500000000000003, 0.65900000000000003, 0.66799999999999993, 0.67200000000000004, 0.67700000000000005, 0.68200000000000005, 0.68299999999999994, 0.69200000000000006, 0.69499999999999995, 0.69700000000000006, 0.69900000000000007, 0.69999999999999996, 0.70200000000000007, 0.70400000000000007, 0.70599999999999996, 0.70700000000000007, 0.70900000000000007, 0.70999999999999996, 0.71400000000000008, 0.71499999999999997, 0.71599999999999997, 0.71700000000000008, 0.71799999999999997, 0.71900000000000008, 0.71999999999999997, 0.72099999999999997, 0.72199999999999998, 0.72299999999999998, 0.72400000000000009, 0.72799999999999998, 0.72900000000000009, 0.72999999999999998, 0.73099999999999998, 0.73499999999999999, 0.73699999999999999, 0.7390000000000001, 0.73999999999999999, 0.74099999999999999, 0.74199999999999999, 0.748, 0.74900000000000011, 0.752, 0.754, 0.755, 0.7609999999999999, 0.76200000000000001, 0.76700000000000002, 0.76800000000000002, 0.77000000000000002, 0.77099999999999991, 0.77300000000000002, 0.77800000000000002, 0.78200000000000003, 0.78799999999999992, 0.79000000000000004, 0.79700000000000004, 0.80299999999999994, 0.80900000000000005, 0.81000000000000005, 0.81900000000000006, 0.82499999999999996, 0.82700000000000007, 0.82900000000000007, 0.83400000000000007, 0.83499999999999996, 0.83799999999999997, 0.84299999999999997, 0.84599999999999997, 0.84900000000000009, 0.85099999999999998, 0.85400000000000009, 0.8590000000000001, 0.86099999999999999, 0.86900000000000011, 0.87, 0.873, 0.87599999999999989, 0.877, 0.878, 0.879, 0.88099999999999989, 0.88200000000000001, 0.88300000000000001, 0.88400000000000001, 0.88500000000000001, 0.8859999999999999, 0.88900000000000001, 0.89300000000000002, 0.89599999999999991, 0.89800000000000002, 0.89900000000000002, 0.90000000000000002, 0.90400000000000003, 0.90500000000000003, 0.91400000000000003, 0.92099999999999993, 0.93700000000000006, 0.94200000000000006, 0.94400000000000006, 0.95299999999999996, 0.95900000000000007, 0.96499999999999997, 0.97699999999999998, 0.98199999999999998, 0.98699999999999999, 0.996, 1.0, 1.016, 1.028, 1.0290000000000001, 1.03, 1.0309999999999999, 1.032, 1.0349999999999999, 1.0390000000000001, 1.04, 1.0409999999999999, 1.0429999999999999, 1.044, 1.046, 1.048, 1.0490000000000002, 1.05, 1.0590000000000002, 1.0720000000000001, 1.085, 1.099, 1.2150000000000001, 1.224, 1.244, 1.25, 1.252, 1.2590000000000001, 1.26, 1.262, 1.264, 1.266, 1.268, 1.27, 1.2809999999999999, 1.2909999999999999, 1.2990000000000002, 1.3130000000000002, 1.327, 1.3340000000000001, 1.3440000000000001, 1.3540000000000001, 1.365, 1.3719999999999999, 1.3840000000000001, 1.3919999999999999, 1.3999999999999999, 1.405, 1.4059999999999999, 1.4099999999999999, 1.415, 1.423, 1.4350000000000001, 1.4450000000000001, 1.4530000000000001, 1.466, 1.4790000000000001, 1.4830000000000001, 1.4980000000000002, 1.51, 1.52, 1.5309999999999999, 1.538, 1.6019999999999999, 1.6140000000000001, 1.629, 1.6399999999999999, 1.6499999999999999, 1.663, 1.6869999999999998, 1.7030000000000001, 1.726, 1.7569999999999999, 1.778, 1.7990000000000002, 1.8109999999999999, 3.3289999999999997, 3.8530000000000002, 4.0209999999999999, 4.0760000000000005, 4.1200000000000001, 4.1530000000000005, 4.1909999999999998, 4.2450000000000001, 4.343, 4.5919999999999996, 4.6630000000000003, 4.7939999999999996, 4.8550000000000004, 4.8559999999999999, 4.8570000000000002, 4.8580000000000005, 4.859, 4.8600000000000003, 4.8639999999999999, 4.8650000000000002, 4.8660000000000005, 4.9210000000000003, 4.9470000000000001, 4.9550000000000001, 4.9560000000000004, 4.9569999999999999, 4.9580000000000002, 4.9589999999999996, 4.96, 4.9610000000000003, 4.9619999999999997, 4.9630000000000001, 4.9639999999999995, 4.9649999999999999, 4.9660000000000002, 4.9669999999999996, 4.968, 4.9699999999999998, 5.0449999999999999] \n",
      "\n",
      "12. nr.employed\n",
      " [4963.6000000000004, 4991.6000000000004, 5008.6999999999998, 5017.5, 5023.5, 5076.1999999999998, 5099.1000000000004, 5176.3000000000002, 5191.0, 5195.8000000000002, 5228.1000000000004] \n",
      "\n",
      "13. job_admin.\n",
      " [0.0, 1.0] \n",
      "\n",
      "14. job_blue-collar\n",
      " [0.0, 1.0] \n",
      "\n",
      "15. job_entrepreneur\n",
      " [0.0, 1.0] \n",
      "\n",
      "16. job_housemaid\n",
      " [0.0, 1.0] \n",
      "\n",
      "17. job_management\n",
      " [0.0, 1.0] \n",
      "\n",
      "18. job_retired\n",
      " [0.0, 1.0] \n",
      "\n",
      "19. job_self-employed\n",
      " [0.0, 1.0] \n",
      "\n",
      "20. job_services\n",
      " [0.0, 1.0] \n",
      "\n",
      "21. job_student\n",
      " [0.0, 1.0] \n",
      "\n",
      "22. job_technician\n",
      " [0.0, 1.0] \n",
      "\n",
      "23. job_unemployed\n",
      " [0.0, 1.0] \n",
      "\n",
      "24. job_unknown\n",
      " [0.0, 1.0] \n",
      "\n",
      "25. marital_divorced\n",
      " [0.0, 1.0] \n",
      "\n",
      "26. marital_married\n",
      " [0.0, 1.0] \n",
      "\n",
      "27. marital_single\n",
      " [0.0, 1.0] \n",
      "\n",
      "28. marital_unknown\n",
      " [0.0, 1.0] \n",
      "\n",
      "29. education_basic.4y\n",
      " [0.0, 1.0] \n",
      "\n",
      "30. education_basic.6y\n",
      " [0.0, 1.0] \n",
      "\n",
      "31. education_basic.9y\n",
      " [0.0, 1.0] \n",
      "\n",
      "32. education_high.school\n",
      " [0.0, 1.0] \n",
      "\n",
      "33. education_professional.course\n",
      " [0.0, 1.0] \n",
      "\n",
      "34. education_university.degree\n",
      " [0.0, 1.0] \n",
      "\n",
      "35. education_unknown\n",
      " [0.0, 1.0] \n",
      "\n",
      "36. default_no\n",
      " [0.0, 1.0] \n",
      "\n",
      "37. default_unknown\n",
      " [0.0, 1.0] \n",
      "\n",
      "38. default_yes\n",
      " [0.0, 1.0] \n",
      "\n",
      "39. housing_no\n",
      " [0.0, 1.0] \n",
      "\n",
      "40. housing_unknown\n",
      " [0.0, 1.0] \n",
      "\n",
      "41. housing_yes\n",
      " [0.0, 1.0] \n",
      "\n",
      "42. loan_no\n",
      " [0.0, 1.0] \n",
      "\n",
      "43. loan_unknown\n",
      " [0.0, 1.0] \n",
      "\n",
      "44. loan_yes\n",
      " [0.0, 1.0] \n",
      "\n",
      "45. poutcome_failure\n",
      " [0.0, 1.0] \n",
      "\n",
      "46. poutcome_nonexistent\n",
      " [0.0, 1.0] \n",
      "\n",
      "47. poutcome_success\n",
      " [0.0, 1.0] \n",
      "\n"
     ]
    }
   ],
   "source": [
    "for i, feature in enumerate(merged_set.columns.values):\n",
    "    print(str(i) + \". \" + feature + \"\\n\", sorted(merged_set[feature].unique()), \"\\n\")"
   ]
  },
  {
   "cell_type": "markdown",
   "metadata": {},
   "source": [
    "### Checking the distribution of the data"
   ]
  },
  {
   "cell_type": "code",
   "execution_count": 11,
   "metadata": {},
   "outputs": [
    {
     "name": "stdout",
     "output_type": "stream",
     "text": [
      "0    2668\n",
      "1     331\n",
      "Name: y, dtype: int64\n"
     ]
    },
    {
     "data": {
      "image/png": "[encoded data removed]",
      "text/plain": [
       "<matplotlib.figure.Figure at 0x7f6e843080f0>"
      ]
     },
     "metadata": {},
     "output_type": "display_data"
    },
    {
     "data": {
      "text/plain": [
       "<matplotlib.figure.Figure at 0x7f6e8434cda0>"
      ]
     },
     "metadata": {},
     "output_type": "display_data"
    }
   ],
   "source": [
    "counts = training_set['y'].map({'yes': 1, 'no': 0})\n",
    "print(counts.value_counts())\n",
    "plt.hist(counts, bins = [0, 0.5, 1])\n",
    "plt.figure()\n",
    "plt.show()"
   ]
  },
  {
   "cell_type": "markdown",
   "metadata": {},
   "source": [
    "### Oversampling"
   ]
  },
  {
   "cell_type": "code",
   "execution_count": 12,
   "metadata": {},
   "outputs": [],
   "source": [
    "training_set_minority_class = training_set[training_set['y'] == 'yes']\n",
    "training_set_with_oversampling = training_set\n",
    "for i in range(7):\n",
    "    training_set_with_oversampling = training_set_with_oversampling.append(training_set_minority_class)\n",
    "training_set = training_set_with_oversampling"
   ]
  },
  {
   "cell_type": "code",
   "execution_count": 13,
   "metadata": {},
   "outputs": [
    {
     "name": "stdout",
     "output_type": "stream",
     "text": [
      "0    2668\n",
      "1    2648\n",
      "Name: y, dtype: int64\n"
     ]
    },
    {
     "data": {
      "image/png": "[encoded data removed]",
      "text/plain": [
       "<matplotlib.figure.Figure at 0x7f6e842e63c8>"
      ]
     },
     "metadata": {},
     "output_type": "display_data"
    },
    {
     "data": {
      "text/plain": [
       "<matplotlib.figure.Figure at 0x7f6e842cbe48>"
      ]
     },
     "metadata": {},
     "output_type": "display_data"
    }
   ],
   "source": [
    "counts = training_set['y'].map({'yes': 1, 'no': 0})\n",
    "print(counts.value_counts())\n",
    "plt.hist(counts, bins = [0, 0.5, 1])\n",
    "plt.figure()\n",
    "plt.show()"
   ]
  },
  {
   "cell_type": "markdown",
   "metadata": {},
   "source": [
    "### Undersampling"
   ]
  },
  {
   "cell_type": "code",
   "execution_count": 14,
   "metadata": {},
   "outputs": [],
   "source": [
    "source_pd, target_pd = training_set.drop('y', axis=1), training_set['y'].map({'yes': 1, 'no': 0})\n",
    "source_np, target_np = source_pd.values, target_pd.values"
   ]
  },
  {
   "cell_type": "code",
   "execution_count": 15,
   "metadata": {},
   "outputs": [],
   "source": [
    "#size = len(target_np[target_np == 1])\n",
    "#tomek = TomekLinks(ratio={1: size, 0: size}, random_state=225)\n",
    "#source_np, target_np = tomek.fit_sample(source_np, target_np)"
   ]
  },
  {
   "cell_type": "code",
   "execution_count": 16,
   "metadata": {},
   "outputs": [],
   "source": [
    "size = len(target_np[target_np == 1])\n",
    "rus = RandomUnderSampler(ratio={1: size, 0: size}, random_state=225)\n",
    "source_np, target_np = rus.fit_sample(source_np, target_np)"
   ]
  },
  {
   "cell_type": "code",
   "execution_count": 17,
   "metadata": {},
   "outputs": [
    {
     "data": {
      "image/png": "[encoded data removed]",
      "text/plain": [
       "<matplotlib.figure.Figure at 0x7f6e7ea12c18>"
      ]
     },
     "metadata": {},
     "output_type": "display_data"
    },
    {
     "data": {
      "text/plain": [
       "<matplotlib.figure.Figure at 0x7f6e7ea12128>"
      ]
     },
     "metadata": {},
     "output_type": "display_data"
    }
   ],
   "source": [
    "plt.hist(target_np, bins = [0, 0.5, 1])\n",
    "plt.figure()\n",
    "plt.show()"
   ]
  },
  {
   "cell_type": "markdown",
   "metadata": {},
   "source": [
    "### Training model"
   ]
  },
  {
   "cell_type": "markdown",
   "metadata": {},
   "source": [
    "#### Better Classifier\n",
    "It is a combined clssifier. It consists of Logistic Regression, Random Forest, SVM and Neural Network. It takes the features and chooses k the most correlated ones. Then it uses those features to predict the output by each subclassifier. Finally decision is made by voting and it favours the label chosen by majority of the classifiers. Arbiter may be introduced to break the ties."
   ]
  },
  {
   "cell_type": "code",
   "execution_count": 18,
   "metadata": {},
   "outputs": [],
   "source": [
    "class BetterClassifier(BaseEstimator):\n",
    "    # Credits for the function vcorrcoef go to:\n",
    "    # https://waterprogramming.wordpress.com/2014/06/13/numpy-vectorized-correlation-coefficient/\n",
    "    def __vcorrcoef__(self, X, y):\n",
    "        Xm = np.ones(X.shape[1]) * np.reshape(np.mean(X, axis=1), (X.shape[0], 1))\n",
    "        ym = np.mean(y)\n",
    "        r_num = np.sum((X - Xm) * (y - ym), axis=1)\n",
    "        r_den = np.sqrt(np.sum((X - Xm) ** 2, axis=1) * np.sum((y - ym) ** 2))\n",
    "        r = r_num / r_den\n",
    "        return r\n",
    "    \n",
    "    def __init__(self, k1, k2, k3, k4, use_classifiers, arbiter, verbose=False):\n",
    "        if len(arbiter) > 1:\n",
    "            raise Exception('wrong number of arbiters')\n",
    "        if len(arbiter) == 1:\n",
    "            if arbiter[0] not in use_classifiers:\n",
    "                raise Exception('arbiter not from the classifiers used')\n",
    "        self.arbiter = arbiter\n",
    "        self.use_classifiers = use_classifiers\n",
    "        self.classifier1 = LogisticRegression(random_state=300)\n",
    "        self.classifier2 = RandomForestClassifier(max_depth=7, random_state=125, n_estimators=325)\n",
    "        self.classifier3 = svm.SVC(kernel='linear', C=1.0, gamma=0.1, random_state=625)\n",
    "        self.classifier4 = MLPClassifier(activation='logistic', solver='lbfgs', random_state=75)\n",
    "        self.features1 = []\n",
    "        self.features2 = []\n",
    "        self.features3 = []\n",
    "        self.features4 = []\n",
    "        self.k1 = k1\n",
    "        self.k2 = k2\n",
    "        self.k3 = k3\n",
    "        self.k4 = k4\n",
    "        self.verbose = verbose\n",
    "\n",
    "    def fit(self, X, y):\n",
    "        # compute correlations between features (columns) and target (label vector)\n",
    "        correlations = self.__vcorrcoef__(X.T, y)\n",
    "\n",
    "        # select the most correlated k\n",
    "        correlations_with_numbers = zip(correlations, range(len(correlations)))\n",
    "        correlations_with_numbers = sorted(correlations_with_numbers, key=lambda tup: abs(tup[0]), reverse=True)\n",
    "        self.features1 = sorted(map(lambda tup: tup[1], correlations_with_numbers[:self.k1]))\n",
    "        self.features2 = sorted(map(lambda tup: tup[1], correlations_with_numbers[:self.k2]))\n",
    "        self.features3 = sorted(map(lambda tup: tup[1], correlations_with_numbers[:self.k3]))\n",
    "        self.features4 = sorted(map(lambda tup: tup[1], correlations_with_numbers[:self.k4]))\n",
    "        if self.verbose:\n",
    "            print(self.features1)\n",
    "            print(self.features2)\n",
    "            print(self.features3)\n",
    "            print(self.features4)\n",
    "\n",
    "        if 1 in self.use_classifiers:\n",
    "            self.classifier1.fit(X[:, self.features1], y)\n",
    "        if 2 in self.use_classifiers:\n",
    "            self.classifier2.fit(X[:, self.features2], y)\n",
    "        if 3 in self.use_classifiers:\n",
    "            self.classifier3.fit(X[:, self.features3], y)\n",
    "        if 4 in self.use_classifiers:\n",
    "            self.classifier4.fit(X[:, self.features4], y)\n",
    "\n",
    "    def threshold(self, y, threshold=0.5):\n",
    "        vfunc = np.vectorize(lambda x: 0 if x <= threshold else 1)\n",
    "        return vfunc(y)\n",
    "\n",
    "    def predict(self, X):\n",
    "        prediction = np.zeros(X.shape[0])\n",
    "\n",
    "        if 1 in self.use_classifiers:\n",
    "            prediction += self.classifier1.predict(X[:, self.features1])\n",
    "            if 1 in self.arbiter:\n",
    "                prediction += self.classifier1.predict(X[:, self.features1])\n",
    "        if 2 in self.use_classifiers:\n",
    "            prediction += self.classifier2.predict(X[:, self.features2])\n",
    "            if 2 in self.arbiter:\n",
    "                prediction += self.classifier2.predict(X[:, self.features2])\n",
    "        if 3 in self.use_classifiers:\n",
    "            prediction += self.classifier3.predict(X[:, self.features3])\n",
    "            if 3 in self.arbiter:\n",
    "                prediction += self.classifier3.predict(X[:, self.features3])\n",
    "        if 4 in self.use_classifiers:\n",
    "            prediction += self.classifier4.predict(X[:, self.features4])\n",
    "            if 4 in self.arbiter:\n",
    "                prediction += self.classifier4.predict(X[:, self.features4])\n",
    "        if self.verbose:\n",
    "            print('prediction done')\n",
    "\n",
    "        return self.threshold(prediction / (len(self.use_classifiers) + len(self.arbiter)), 0.5)\n",
    "\n",
    "    def score(self, X, y):\n",
    "        return matthews_corrcoef(self.predict(X), y)"
   ]
  },
  {
   "cell_type": "markdown",
   "metadata": {},
   "source": [
    "#### Grid search and cross validation"
   ]
  },
  {
   "cell_type": "code",
   "execution_count": 19,
   "metadata": {
    "scrolled": false
   },
   "outputs": [
    {
     "name": "stdout",
     "output_type": "stream",
     "text": [
      "BetterClassifier: mean: 0.64359066, standard deviation: 0.01886786, error: 0.35640934\n"
     ]
    }
   ],
   "source": [
    "#max_i = 0\n",
    "#max_score = 0\n",
    "#for i in [[], [1], [2], [3], [4]]:\n",
    "classifier = BetterClassifier(36, 4, source_np.shape[1], 6, [2, 3, 4], [3])\n",
    "cv = KFold(n_splits=5, shuffle=True, random_state=5)\n",
    "scores1 = cross_val_score(classifier, source_np, target_np, cv=cv)\n",
    "cv = KFold(n_splits=5, shuffle=True, random_state=25)\n",
    "scores2 = cross_val_score(classifier, source_np, target_np, cv=cv)\n",
    "scores = np.concatenate([scores1, scores2])\n",
    "mean, std = scores.mean(), scores.std(ddof=1)\n",
    "print(\"%s: mean: %0.8f, standard deviation: %0.8f, error: %0.8f\" % (classifier.__class__.__name__, mean, std, 1 - mean))\n",
    "#    if mean > max_score:\n",
    "#        max_score = mean\n",
    "#        max_i = i\n",
    "#print(max_score, max_i)"
   ]
  },
  {
   "cell_type": "markdown",
   "metadata": {},
   "source": [
    "#### Justification for the choices of parameters\n",
    "Initially I chose to combine four classifiers. Different classifiers were introduced to provide robust result. Having such an ensemble, I performed grid search to find optimal parameters for each classifier, every time computing the score using 2 times 5-fold cross-validation (2x5 CV) in order to remove the bias of the choice of the training and test data (5) and bias of the split into the folds (2).\n",
    "Logistic Regression classifier has been abandoned due to the poor results compared to Random Forest and negative impact on the final score on the competition. SVM has been filled with all the features to let the algorithm decide to choose the best. Parameters of Random Forset and Neural Network were obtained as a result grid search with cross validation."
   ]
  },
  {
   "cell_type": "markdown",
   "metadata": {},
   "source": [
    "### Making prediction for the test data"
   ]
  },
  {
   "cell_type": "markdown",
   "metadata": {},
   "source": [
    "#### Training classifier on the whole over/undersampled training set"
   ]
  },
  {
   "cell_type": "code",
   "execution_count": 20,
   "metadata": {},
   "outputs": [],
   "source": [
    "classifier.fit(source_np, target_np)"
   ]
  },
  {
   "cell_type": "markdown",
   "metadata": {},
   "source": [
    "#### Computing prediction for the test set"
   ]
  },
  {
   "cell_type": "code",
   "execution_count": 21,
   "metadata": {},
   "outputs": [],
   "source": [
    "test_np = test_set.values\n",
    "prediction = classifier.predict(test_np)"
   ]
  },
  {
   "cell_type": "markdown",
   "metadata": {},
   "source": [
    "### Preparing the submission"
   ]
  },
  {
   "cell_type": "code",
   "execution_count": 22,
   "metadata": {},
   "outputs": [],
   "source": [
    "# Check for the format of submission: should contain 1 and 0 instead of \"yes\" and \"no\"\n",
    "def create_csv_submission(prediction):\n",
    "    submission_file_path = time.strftime(\"%Y%m%d_%H%M%S_submission.csv\")\n",
    "    with open(submission_file_path, 'w') as csvfile:\n",
    "        fieldnames = ['Id', 'prediction']\n",
    "        writer = csv.DictWriter(csvfile, delimiter=\",\", fieldnames=fieldnames)\n",
    "        writer.writeheader()\n",
    "        for i, elem in enumerate(prediction):\n",
    "            writer.writerow({'Id': str(i + 1), 'prediction': str(elem)[0]})"
   ]
  },
  {
   "cell_type": "markdown",
   "metadata": {},
   "source": [
    "#### Creating Kaggle submission file"
   ]
  },
  {
   "cell_type": "code",
   "execution_count": 23,
   "metadata": {},
   "outputs": [],
   "source": [
    "create_csv_submission(prediction)"
   ]
  },
  {
   "cell_type": "code",
   "execution_count": null,
   "metadata": {},
   "outputs": [],
   "source": []
  }
 ],
 "metadata": {
  "anaconda-cloud": {},
  "kernelspec": {
   "display_name": "Python [Root]",
   "language": "python",
   "name": "Python [Root]"
  },
  "language_info": {
   "codemirror_mode": {
    "name": "ipython",
    "version": 3
   },
   "file_extension": ".py",
   "mimetype": "text/x-python",
   "name": "python",
   "nbconvert_exporter": "python",
   "pygments_lexer": "ipython3",
   "version": "3.5.2"
  }
 },
 "nbformat": 4,
 "nbformat_minor": 1
}
